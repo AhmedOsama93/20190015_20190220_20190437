{
  "nbformat": 4,
  "nbformat_minor": 0,
  "metadata": {
    "colab": {
      "name": "Untitled0.ipynb",
      "provenance": [],
      "collapsed_sections": [],
      "authorship_tag": "ABX9TyPr0/dI3cFiAkNs2tIZOHWV",
      "include_colab_link": true
    },
    "kernelspec": {
      "name": "python3",
      "display_name": "Python 3"
    },
    "language_info": {
      "name": "python"
    }
  },
  "cells": [
    {
      "cell_type": "markdown",
      "metadata": {
        "id": "view-in-github",
        "colab_type": "text"
      },
      "source": [
        "<a href=\"https://colab.research.google.com/github/AhmedOsama93/20190015_20190220_20190437/blob/main/faceRecognize.ipynb\" target=\"_parent\"><img src=\"https://colab.research.google.com/assets/colab-badge.svg\" alt=\"Open In Colab\"/></a>"
      ]
    },
    {
      "cell_type": "code",
      "execution_count": 100,
      "metadata": {
        "id": "GLOWSHlGXXAk"
      },
      "outputs": [],
      "source": [
        "from skimage.metrics import structural_similarity as ssim\n",
        "import matplotlib.pyplot as plt\n",
        "import numpy as np\n",
        "import cv2\n",
        "\n",
        "import numpy as np\n",
        "import pandas as pd\n",
        "import matplotlib.pyplot as plt\n",
        "\n",
        "from matplotlib.pyplot import imread\n",
        "from sklearn.decomposition import PCA\n",
        "from scipy.stats import stats\n",
        "import matplotlib.image as mpimg\n"
      ]
    },
    {
      "cell_type": "markdown",
      "source": [
        ""
      ],
      "metadata": {
        "id": "TzSBwtnWXshz"
      }
    },
    {
      "cell_type": "code",
      "source": [
        "imageA=imread(\"/subject11.centerlight.jpg\")\n",
        "imageA=imageA.astype(np.uint8)\n",
        "imageA = imageA/255\n"
      ],
      "metadata": {
        "id": "BgnI9Gz2vZpI"
      },
      "execution_count": 101,
      "outputs": []
    },
    {
      "cell_type": "code",
      "source": [
        "\n",
        "imageB=imread(\"/subject11.happy.jpg\")\n",
        "imageB=imageB.astype(np.uint8)\n",
        "imageB = imageB/255\n"
      ],
      "metadata": {
        "id": "1rjKZCIyvZ8g"
      },
      "execution_count": 102,
      "outputs": []
    },
    {
      "cell_type": "code",
      "source": [
        "\n",
        "def transform(image,percentage):\n",
        "    image_pca = PCA(n_components=percentage).fit(imageB)\n",
        "    transformed = image_pca.transform(image)\n",
        "    projected = image_pca.inverse_transform(transformed)\n",
        "    return projected\n",
        "transform(imageA,150)\n"
      ],
      "metadata": {
        "colab": {
          "base_uri": "https://localhost:8080/"
        },
        "id": "qKGC24vZvaHc",
        "outputId": "a3390eeb-942d-451e-c430-439cea862aae"
      },
      "execution_count": 103,
      "outputs": [
        {
          "output_type": "execute_result",
          "data": {
            "text/plain": [
              "array([[0.51001448, 0.5099541 , 0.50999026, ..., 0.9995679 , 0.99975886,\n",
              "        0.99954908],\n",
              "       [0.99997089, 0.99998003, 0.99997353, ..., 1.00000824, 1.00001791,\n",
              "        1.00006794],\n",
              "       [0.99997089, 0.99998003, 0.99997353, ..., 1.00000824, 1.00001791,\n",
              "        1.00006794],\n",
              "       ...,\n",
              "       [0.74163969, 0.7373241 , 0.73262893, ..., 0.45616146, 0.4167498 ,\n",
              "        0.27390056],\n",
              "       [0.69032566, 0.68482825, 0.67768564, ..., 0.39898577, 0.36714148,\n",
              "        0.25541994],\n",
              "       [0.26641245, 0.26650347, 0.26656661, ..., 0.26655229, 0.26644322,\n",
              "        0.26740707]])"
            ]
          },
          "metadata": {},
          "execution_count": 103
        }
      ]
    },
    {
      "cell_type": "code",
      "source": [
        "img1=transform(imageA,0.15)\n",
        "\n",
        "img2=transform(imageB,0.15)\n",
        "def mse(imageA, imageB):\n",
        "\t# the 'Mean Squared Error' between the two images is the\n",
        "\t# sum of the squared difference between the two images;\n",
        "\t# NOTE: the two images must have the same dimension\n",
        "\n",
        "\terr = np.sum((imageA.astype(\"float\") - imageB.astype(\"float\")) ** 2)\n",
        "\terr /= float(imageA.shape[0] * imageA.shape[1])\n",
        " \n",
        "\t# return the MSE, the lower the error, the more \"similar\"\n",
        "\t# the two images are\n",
        "\treturn err\n",
        "\n",
        "mse(imageA, imageB)\n",
        "\n"
      ],
      "metadata": {
        "colab": {
          "base_uri": "https://localhost:8080/"
        },
        "id": "V2M39Q13vaNS",
        "outputId": "43e61e5b-a4f2-494a-b6e1-4301d5ade23e"
      },
      "execution_count": 104,
      "outputs": [
        {
          "output_type": "execute_result",
          "data": {
            "text/plain": [
              "0.03602619956237155"
            ]
          },
          "metadata": {},
          "execution_count": 104
        }
      ]
    },
    {
      "cell_type": "code",
      "source": [
        "\n",
        "def compare_images(imageA, imageB, title):\n",
        "\t# compute the mean squared error and structural similarity\n",
        "\t# index for the images\n",
        "\tm = mse(imageA, imageB)\n",
        "\ts = ssim(imageA, imageB)\n",
        "\t# setup the figure\n",
        "\tfig = plt.figure(title)\n",
        "\tplt.suptitle(\"MSE: %.2f, SSIM: %.2f\" % (m, s))\n",
        "\t# show first image\n",
        "\tax = fig.add_subplot(1, 2, 1)\n",
        "\tplt.imshow(imageA, cmap = plt.cm.gray)\n",
        "\tplt.axis(\"off\")\n",
        "\t# show the second image\n",
        "\tax = fig.add_subplot(1, 2, 2)\n",
        "\tplt.imshow(imageB, cmap = plt.cm.gray)\n",
        "\tplt.axis(\"off\")\n",
        "\t# show the images\n",
        "\tplt.show()\n",
        " \n",
        "compare_images(img1, img2, 1)"
      ],
      "metadata": {
        "colab": {
          "base_uri": "https://localhost:8080/",
          "height": 226
        },
        "id": "-CNRAD5uvaOY",
        "outputId": "8840ad60-8943-4179-dccc-acee4deb1f4d"
      },
      "execution_count": 105,
      "outputs": [
        {
          "output_type": "display_data",
          "data": {
            "text/plain": [
              "<Figure size 432x288 with 2 Axes>"
            ],
            "image/png": "[encoded data removed]"
          },
          "metadata": {
            "needs_background": "light"
          }
        }
      ]
    },
    {
      "cell_type": "code",
      "source": [
        ""
      ],
      "metadata": {
        "id": "JSXH9LnSvaTI"
      },
      "execution_count": 105,
      "outputs": []
    },
    {
      "cell_type": "code",
      "source": [
        ""
      ],
      "metadata": {
        "id": "0HNM1FCivaT_"
      },
      "execution_count": 95,
      "outputs": []
    }
  ]
}